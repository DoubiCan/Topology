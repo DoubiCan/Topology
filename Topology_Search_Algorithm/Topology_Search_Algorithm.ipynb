{
 "cells": [
  {
   "cell_type": "code",
   "execution_count": 30,
   "metadata": {},
   "outputs": [],
   "source": [
    "N,Element=3,['a','b','c']\n",
    "NN=2**N\n",
    "NNN=2**(NN)\n",
    "All_Tau=[]\n",
    "Topology_Tau=[]\n",
    "Topology_display=[]\n"
   ]
  },
  {
   "cell_type": "code",
   "execution_count": 31,
   "metadata": {},
   "outputs": [],
   "source": [
    "def Intersection_check(Tau):\n",
    "    for i in range(1,len(Tau)):\n",
    "        for j in range(i+1,len(Tau)+1):\n",
    "            if (Tau[i-1]&Tau[j-1]) not in Tau:\n",
    "                return False\n",
    "    return True"
   ]
  },
  {
   "cell_type": "code",
   "execution_count": 32,
   "metadata": {},
   "outputs": [],
   "source": [
    "def Union_check(Tau):\n",
    "    for i in range(1,len(Tau)):\n",
    "        for j in range(i+1,len(Tau)+1):\n",
    "            if (Tau[i-1]|Tau[j-1]) not in Tau:\n",
    "                return False\n",
    "    return True"
   ]
  },
  {
   "cell_type": "code",
   "execution_count": 33,
   "metadata": {},
   "outputs": [],
   "source": [
    "def universe_emptyset_check(Tau):\n",
    "    if (0 not in Tau) | ((NN-1)not in Tau):return False\n",
    "    return True"
   ]
  },
  {
   "cell_type": "code",
   "execution_count": 34,
   "metadata": {},
   "outputs": [],
   "source": [
    "temp0,temp1=0,0\n",
    "\n",
    "for k in range(1,NNN+1):\n",
    "    temp0=k-1\n",
    "    Tau=[]\n",
    "    for s in range(1,NN+1):\n",
    "        temp1=temp0%2#余数\n",
    "        temp0=temp0//2#商\n",
    "        if temp1==1:\n",
    "            Tau.append(s-1)\n",
    "        if temp0==0:break\n",
    "    All_Tau.append(Tau)\n",
    "    if Intersection_check(Tau) & Union_check(Tau) & universe_emptyset_check(Tau):\n",
    "        Topology_Tau.append(Tau)"
   ]
  },
  {
   "cell_type": "code",
   "execution_count": 35,
   "metadata": {},
   "outputs": [],
   "source": [
    "def Number2String(Number):\n",
    "    String=\"{\"\n",
    "    quotient=Number#商\n",
    "    remainder=0#余数\n",
    "    for k in range(1,N+1):\n",
    "        remainder=quotient%2#余数\n",
    "        quotient=quotient//2#商\n",
    "        if remainder==1:\n",
    "\n",
    "            String+=(Element[k-1]+',')\n",
    "        if quotient==0:\n",
    "            String=String[0:-1]\n",
    "            break\n",
    "    String+=\"}\"\n",
    "    return String"
   ]
  },
  {
   "cell_type": "code",
   "execution_count": 36,
   "metadata": {},
   "outputs": [],
   "source": [
    "for i in range(1,len(Topology_Tau)+1):\n",
    "    Set_Number=Topology_Tau[i-1]\n",
    "    Set_String=\"{\"\n",
    "    for j in range(1,len(Set_Number)+1):\n",
    "        Set_String+=(Number2String(Set_Number[j-1])+',')\n",
    "    Set_String=Set_String[0:-1]\n",
    "    Set_String+=\"}\"\n",
    "    Topology_display.append(Set_String)"
   ]
  },
  {
   "cell_type": "code",
   "execution_count": 37,
   "metadata": {},
   "outputs": [
    {
     "name": "stdout",
     "output_type": "stream",
     "text": [
      "29\n"
     ]
    }
   ],
   "source": [
    "print(len(Topology_Tau))"
   ]
  }
 ],
 "metadata": {
  "kernelspec": {
   "display_name": "Python 3",
   "language": "python",
   "name": "python3"
  },
  "language_info": {
   "codemirror_mode": {
    "name": "ipython",
    "version": 3
   },
   "file_extension": ".py",
   "mimetype": "text/x-python",
   "name": "python",
   "nbconvert_exporter": "python",
   "pygments_lexer": "ipython3",
   "version": "3.10.6"
  }
 },
 "nbformat": 4,
 "nbformat_minor": 2
}
