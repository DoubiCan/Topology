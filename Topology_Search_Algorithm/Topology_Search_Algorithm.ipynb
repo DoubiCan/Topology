{
 "cells": [
  {
   "cell_type": "code",
   "execution_count": 20,
   "metadata": {},
   "outputs": [],
   "source": [
    "N,Element=4,['a','b','c','d']\n",
    "NN=2**N\n",
    "NNN=2**(NN)\n",
    "All_Tau=[]\n",
    "Topology_Tau=[]\n",
    "Topology_display=[]\n"
   ]
  },
  {
   "cell_type": "code",
   "execution_count": 21,
   "metadata": {},
   "outputs": [],
   "source": [
    "def Intersection_check(Tau):\n",
    "    for i in range(1,len(Tau)):\n",
    "        for j in range(i+1,len(Tau)+1):\n",
    "            if (Tau[i-1]&Tau[j-1]) not in Tau:\n",
    "                return False\n",
    "    return True"
   ]
  },
  {
   "cell_type": "code",
   "execution_count": 22,
   "metadata": {},
   "outputs": [],
   "source": [
    "def Union_check(Tau):\n",
    "    for i in range(1,len(Tau)):\n",
    "        for j in range(i+1,len(Tau)+1):\n",
    "            if (Tau[i-1]|Tau[j-1]) not in Tau:\n",
    "                return False\n",
    "    return True"
   ]
  },
  {
   "cell_type": "code",
   "execution_count": 23,
   "metadata": {},
   "outputs": [],
   "source": [
    "def universe_emptyset_check(Tau):\n",
    "    if (0 not in Tau) | ((NN-1)not in Tau):return False\n",
    "    return True"
   ]
  },
  {
   "cell_type": "code",
   "execution_count": 24,
   "metadata": {},
   "outputs": [],
   "source": [
    "temp0,temp1=0,0\n",
    "\n",
    "for k in range(1,NNN+1):\n",
    "    temp0=k-1\n",
    "    Tau=[]\n",
    "    for s in range(1,NN+1):\n",
    "        temp1=temp0%2#余数\n",
    "        temp0=temp0//2#商\n",
    "        if temp1==1:\n",
    "            Tau.append(s-1)\n",
    "        if temp0==0:break\n",
    "    All_Tau.append(Tau)\n",
    "    if Intersection_check(Tau) & Union_check(Tau) & universe_emptyset_check(Tau):\n",
    "        Topology_Tau.append(Tau)"
   ]
  },
  {
   "cell_type": "code",
   "execution_count": 25,
   "metadata": {},
   "outputs": [],
   "source": [
    "def Number2String(Number):\n",
    "    String=\"{\"\n",
    "    quotient=Number#商\n",
    "    remainder=0#余数\n",
    "    for k in range(1,N+1):\n",
    "        remainder=quotient%2#余数\n",
    "        quotient=quotient//2#商\n",
    "        if remainder==1:\n",
    "            String+=(Element[k-1]+',')\n",
    "        if quotient==0:\n",
    "            if len(String)>=2:String=String[0:-1]\n",
    "            \n",
    "            break\n",
    "    String+=\"}\"\n",
    "    return String"
   ]
  },
  {
   "cell_type": "code",
   "execution_count": 26,
   "metadata": {},
   "outputs": [],
   "source": [
    "for i in range(1,len(Topology_Tau)+1):\n",
    "    Set_Number=Topology_Tau[i-1]\n",
    "    Set_String=\"{\"\n",
    "    for j in range(1,len(Set_Number)+1):\n",
    "        Set_String+=(Number2String(Set_Number[j-1])+',')\n",
    "    if len(Set_String)>=2:Set_String=Set_String[0:-1]\n",
    "    Set_String+=\"}\"\n",
    "    Topology_display.append(Set_String)"
   ]
  },
  {
   "cell_type": "code",
   "execution_count": 27,
   "metadata": {},
   "outputs": [
    {
     "name": "stdout",
     "output_type": "stream",
     "text": [
      "355\n"
     ]
    }
   ],
   "source": [
    "print(len(Topology_Tau))"
   ]
  },
  {
   "cell_type": "code",
   "execution_count": 28,
   "metadata": {},
   "outputs": [
    {
     "name": "stdout",
     "output_type": "stream",
     "text": [
      "['{{},{a,b,c,d}}', '{{},{a},{a,b,c,d}}', '{{},{b},{a,b,c,d}}', '{{},{a,b},{a,b,c,d}}', '{{},{a},{a,b},{a,b,c,d}}', '{{},{b},{a,b},{a,b,c,d}}', '{{},{a},{b},{a,b},{a,b,c,d}}', '{{},{c},{a,b,c,d}}', '{{},{a,c},{a,b,c,d}}', '{{},{a},{a,c},{a,b,c,d}}', '{{},{c},{a,c},{a,b,c,d}}', '{{},{a},{c},{a,c},{a,b,c,d}}', '{{},{b,c},{a,b,c,d}}', '{{},{b},{b,c},{a,b,c,d}}', '{{},{c},{b,c},{a,b,c,d}}', '{{},{b},{c},{b,c},{a,b,c,d}}', '{{},{a,b,c},{a,b,c,d}}', '{{},{a},{a,b,c},{a,b,c,d}}', '{{},{b},{a,b,c},{a,b,c,d}}', '{{},{a,b},{a,b,c},{a,b,c,d}}', '{{},{a},{a,b},{a,b,c},{a,b,c,d}}', '{{},{b},{a,b},{a,b,c},{a,b,c,d}}', '{{},{a},{b},{a,b},{a,b,c},{a,b,c,d}}', '{{},{c},{a,b,c},{a,b,c,d}}', '{{},{a,b},{c},{a,b,c},{a,b,c,d}}', '{{},{a,c},{a,b,c},{a,b,c,d}}', '{{},{a},{a,c},{a,b,c},{a,b,c,d}}', '{{},{b},{a,c},{a,b,c},{a,b,c,d}}', '{{},{a},{a,b},{a,c},{a,b,c},{a,b,c,d}}', '{{},{a},{b},{a,b},{a,c},{a,b,c},{a,b,c,d}}', '{{},{c},{a,c},{a,b,c},{a,b,c,d}}', '{{},{a},{c},{a,c},{a,b,c},{a,b,c,d}}', '{{},{a},{a,b},{c},{a,c},{a,b,c},{a,b,c,d}}', '{{},{b,c},{a,b,c},{a,b,c,d}}', '{{},{a},{b,c},{a,b,c},{a,b,c,d}}', '{{},{b},{b,c},{a,b,c},{a,b,c,d}}', '{{},{b},{a,b},{b,c},{a,b,c},{a,b,c,d}}', '{{},{a},{b},{a,b},{b,c},{a,b,c},{a,b,c,d}}', '{{},{c},{b,c},{a,b,c},{a,b,c,d}}', '{{},{b},{c},{b,c},{a,b,c},{a,b,c,d}}', '{{},{b},{a,b},{c},{b,c},{a,b,c},{a,b,c,d}}', '{{},{c},{a,c},{b,c},{a,b,c},{a,b,c,d}}', '{{},{a},{c},{a,c},{b,c},{a,b,c},{a,b,c,d}}', '{{},{b},{c},{a,c},{b,c},{a,b,c},{a,b,c,d}}', '{{},{a},{b},{a,b},{c},{a,c},{b,c},{a,b,c},{a,b,c,d}}', '{{},{d},{a,b,c,d}}', '{{},{a,b,c},{d},{a,b,c,d}}', '{{},{a,d},{a,b,c,d}}', '{{},{a},{a,d},{a,b,c,d}}', '{{},{b,c},{a,d},{a,b,c,d}}', '{{},{a},{a,b,c},{a,d},{a,b,c,d}}', '{{},{a},{b,c},{a,b,c},{a,d},{a,b,c,d}}', '{{},{d},{a,d},{a,b,c,d}}', '{{},{a},{d},{a,d},{a,b,c,d}}', '{{},{a},{a,b,c},{d},{a,d},{a,b,c,d}}', '{{},{b,d},{a,b,c,d}}', '{{},{b},{b,d},{a,b,c,d}}', '{{},{a,c},{b,d},{a,b,c,d}}', '{{},{b},{a,b,c},{b,d},{a,b,c,d}}', '{{},{b},{a,c},{a,b,c},{b,d},{a,b,c,d}}', '{{},{d},{b,d},{a,b,c,d}}', '{{},{b},{d},{b,d},{a,b,c,d}}', '{{},{b},{a,b,c},{d},{b,d},{a,b,c,d}}', '{{},{a,b,d},{a,b,c,d}}', '{{},{a},{a,b,d},{a,b,c,d}}', '{{},{b},{a,b,d},{a,b,c,d}}', '{{},{a,b},{a,b,d},{a,b,c,d}}', '{{},{a},{a,b},{a,b,d},{a,b,c,d}}', '{{},{b},{a,b},{a,b,d},{a,b,c,d}}', '{{},{a},{b},{a,b},{a,b,d},{a,b,c,d}}', '{{},{c},{a,b,d},{a,b,c,d}}', '{{},{a},{a,c},{a,b,d},{a,b,c,d}}', '{{},{a},{c},{a,c},{a,b,d},{a,b,c,d}}', '{{},{b},{b,c},{a,b,d},{a,b,c,d}}', '{{},{b},{c},{b,c},{a,b,d},{a,b,c,d}}', '{{},{a,b},{a,b,c},{a,b,d},{a,b,c,d}}', '{{},{a},{a,b},{a,b,c},{a,b,d},{a,b,c,d}}', '{{},{b},{a,b},{a,b,c},{a,b,d},{a,b,c,d}}', '{{},{a},{b},{a,b},{a,b,c},{a,b,d},{a,b,c,d}}', '{{},{a,b},{c},{a,b,c},{a,b,d},{a,b,c,d}}', '{{},{a},{a,b},{a,c},{a,b,c},{a,b,d},{a,b,c,d}}', '{{},{a},{b},{a,b},{a,c},{a,b,c},{a,b,d},{a,b,c,d}}', '{{},{a},{a,b},{c},{a,c},{a,b,c},{a,b,d},{a,b,c,d}}', '{{},{b},{a,b},{b,c},{a,b,c},{a,b,d},{a,b,c,d}}', '{{},{a},{b},{a,b},{b,c},{a,b,c},{a,b,d},{a,b,c,d}}', '{{},{b},{a,b},{c},{b,c},{a,b,c},{a,b,d},{a,b,c,d}}', '{{},{a},{b},{a,b},{c},{a,c},{b,c},{a,b,c},{a,b,d},{a,b,c,d}}', '{{},{d},{a,b,d},{a,b,c,d}}', '{{},{a,b},{d},{a,b,d},{a,b,c,d}}', '{{},{a,b},{a,b,c},{d},{a,b,d},{a,b,c,d}}', '{{},{a,d},{a,b,d},{a,b,c,d}}', '{{},{a},{a,d},{a,b,d},{a,b,c,d}}', '{{},{b},{a,d},{a,b,d},{a,b,c,d}}', '{{},{a},{a,b},{a,d},{a,b,d},{a,b,c,d}}', '{{},{a},{b},{a,b},{a,d},{a,b,d},{a,b,c,d}}', '{{},{b},{b,c},{a,d},{a,b,d},{a,b,c,d}}', '{{},{a},{a,b},{a,b,c},{a,d},{a,b,d},{a,b,c,d}}', '{{},{a},{b},{a,b},{a,b,c},{a,d},{a,b,d},{a,b,c,d}}', '{{},{a},{b},{a,b},{b,c},{a,b,c},{a,d},{a,b,d},{a,b,c,d}}', '{{},{d},{a,d},{a,b,d},{a,b,c,d}}', '{{},{a},{d},{a,d},{a,b,d},{a,b,c,d}}', '{{},{a},{a,b},{d},{a,d},{a,b,d},{a,b,c,d}}', '{{},{a},{a,b},{a,b,c},{d},{a,d},{a,b,d},{a,b,c,d}}', '{{},{b,d},{a,b,d},{a,b,c,d}}', '{{},{a},{b,d},{a,b,d},{a,b,c,d}}', '{{},{b},{b,d},{a,b,d},{a,b,c,d}}', '{{},{b},{a,b},{b,d},{a,b,d},{a,b,c,d}}', '{{},{a},{b},{a,b},{b,d},{a,b,d},{a,b,c,d}}', '{{},{a},{a,c},{b,d},{a,b,d},{a,b,c,d}}', '{{},{b},{a,b},{a,b,c},{b,d},{a,b,d},{a,b,c,d}}', '{{},{a},{b},{a,b},{a,b,c},{b,d},{a,b,d},{a,b,c,d}}', '{{},{a},{b},{a,b},{a,c},{a,b,c},{b,d},{a,b,d},{a,b,c,d}}', '{{},{d},{b,d},{a,b,d},{a,b,c,d}}', '{{},{b},{d},{b,d},{a,b,d},{a,b,c,d}}', '{{},{b},{a,b},{d},{b,d},{a,b,d},{a,b,c,d}}', '{{},{b},{a,b},{a,b,c},{d},{b,d},{a,b,d},{a,b,c,d}}', '{{},{d},{a,d},{b,d},{a,b,d},{a,b,c,d}}', '{{},{a},{d},{a,d},{b,d},{a,b,d},{a,b,c,d}}', '{{},{b},{d},{a,d},{b,d},{a,b,d},{a,b,c,d}}', '{{},{a},{b},{a,b},{d},{a,d},{b,d},{a,b,d},{a,b,c,d}}', '{{},{a},{b},{a,b},{a,b,c},{d},{a,d},{b,d},{a,b,d},{a,b,c,d}}', '{{},{c,d},{a,b,c,d}}', '{{},{a,b},{c,d},{a,b,c,d}}', '{{},{c},{c,d},{a,b,c,d}}', '{{},{c},{a,b,c},{c,d},{a,b,c,d}}', '{{},{a,b},{c},{a,b,c},{c,d},{a,b,c,d}}', '{{},{d},{c,d},{a,b,c,d}}', '{{},{c},{d},{c,d},{a,b,c,d}}', '{{},{c},{a,b,c},{d},{c,d},{a,b,c,d}}', '{{},{d},{a,b,d},{c,d},{a,b,c,d}}', '{{},{a,b},{d},{a,b,d},{c,d},{a,b,c,d}}', '{{},{c},{d},{a,b,d},{c,d},{a,b,c,d}}', '{{},{a,b},{c},{a,b,c},{d},{a,b,d},{c,d},{a,b,c,d}}', '{{},{a,c,d},{a,b,c,d}}', '{{},{a},{a,c,d},{a,b,c,d}}', '{{},{b},{a,c,d},{a,b,c,d}}', '{{},{a},{a,b},{a,c,d},{a,b,c,d}}', '{{},{a},{b},{a,b},{a,c,d},{a,b,c,d}}', '{{},{c},{a,c,d},{a,b,c,d}}', '{{},{a,c},{a,c,d},{a,b,c,d}}', '{{},{a},{a,c},{a,c,d},{a,b,c,d}}', '{{},{c},{a,c},{a,c,d},{a,b,c,d}}', '{{},{a},{c},{a,c},{a,c,d},{a,b,c,d}}', '{{},{c},{b,c},{a,c,d},{a,b,c,d}}', '{{},{b},{c},{b,c},{a,c,d},{a,b,c,d}}', '{{},{a,c},{a,b,c},{a,c,d},{a,b,c,d}}', '{{},{a},{a,c},{a,b,c},{a,c,d},{a,b,c,d}}', '{{},{b},{a,c},{a,b,c},{a,c,d},{a,b,c,d}}', '{{},{a},{a,b},{a,c},{a,b,c},{a,c,d},{a,b,c,d}}', '{{},{a},{b},{a,b},{a,c},{a,b,c},{a,c,d},{a,b,c,d}}', '{{},{c},{a,c},{a,b,c},{a,c,d},{a,b,c,d}}', '{{},{a},{c},{a,c},{a,b,c},{a,c,d},{a,b,c,d}}', '{{},{a},{a,b},{c},{a,c},{a,b,c},{a,c,d},{a,b,c,d}}', '{{},{c},{a,c},{b,c},{a,b,c},{a,c,d},{a,b,c,d}}', '{{},{a},{c},{a,c},{b,c},{a,b,c},{a,c,d},{a,b,c,d}}', '{{},{b},{c},{a,c},{b,c},{a,b,c},{a,c,d},{a,b,c,d}}', '{{},{a},{b},{a,b},{c},{a,c},{b,c},{a,b,c},{a,c,d},{a,b,c,d}}', '{{},{d},{a,c,d},{a,b,c,d}}', '{{},{a,c},{d},{a,c,d},{a,b,c,d}}', '{{},{a,c},{a,b,c},{d},{a,c,d},{a,b,c,d}}', '{{},{a,d},{a,c,d},{a,b,c,d}}', '{{},{a},{a,d},{a,c,d},{a,b,c,d}}', '{{},{c},{a,d},{a,c,d},{a,b,c,d}}', '{{},{a},{a,c},{a,d},{a,c,d},{a,b,c,d}}', '{{},{a},{c},{a,c},{a,d},{a,c,d},{a,b,c,d}}', '{{},{c},{b,c},{a,d},{a,c,d},{a,b,c,d}}', '{{},{a},{a,c},{a,b,c},{a,d},{a,c,d},{a,b,c,d}}', '{{},{a},{c},{a,c},{a,b,c},{a,d},{a,c,d},{a,b,c,d}}', '{{},{a},{c},{a,c},{b,c},{a,b,c},{a,d},{a,c,d},{a,b,c,d}}', '{{},{d},{a,d},{a,c,d},{a,b,c,d}}', '{{},{a},{d},{a,d},{a,c,d},{a,b,c,d}}', '{{},{a},{a,c},{d},{a,d},{a,c,d},{a,b,c,d}}', '{{},{a},{a,c},{a,b,c},{d},{a,d},{a,c,d},{a,b,c,d}}', '{{},{d},{b,d},{a,c,d},{a,b,c,d}}', '{{},{b},{d},{b,d},{a,c,d},{a,b,c,d}}', '{{},{a,c},{d},{b,d},{a,c,d},{a,b,c,d}}', '{{},{b},{a,c},{a,b,c},{d},{b,d},{a,c,d},{a,b,c,d}}', '{{},{a,d},{a,b,d},{a,c,d},{a,b,c,d}}', '{{},{a},{a,d},{a,b,d},{a,c,d},{a,b,c,d}}', '{{},{b},{a,d},{a,b,d},{a,c,d},{a,b,c,d}}', '{{},{a},{a,b},{a,d},{a,b,d},{a,c,d},{a,b,c,d}}', '{{},{a},{b},{a,b},{a,d},{a,b,d},{a,c,d},{a,b,c,d}}', '{{},{c},{a,d},{a,b,d},{a,c,d},{a,b,c,d}}', '{{},{a},{a,c},{a,d},{a,b,d},{a,c,d},{a,b,c,d}}', '{{},{a},{c},{a,c},{a,d},{a,b,d},{a,c,d},{a,b,c,d}}', '{{},{b},{c},{b,c},{a,d},{a,b,d},{a,c,d},{a,b,c,d}}', '{{},{a},{a,b},{a,c},{a,b,c},{a,d},{a,b,d},{a,c,d},{a,b,c,d}}', '{{},{a},{b},{a,b},{a,c},{a,b,c},{a,d},{a,b,d},{a,c,d},{a,b,c,d}}', '{{},{a},{a,b},{c},{a,c},{a,b,c},{a,d},{a,b,d},{a,c,d},{a,b,c,d}}', '{{},{a},{b},{a,b},{c},{a,c},{b,c},{a,b,c},{a,d},{a,b,d},{a,c,d},{a,b,c,d}}', '{{},{d},{a,d},{a,b,d},{a,c,d},{a,b,c,d}}', '{{},{a},{d},{a,d},{a,b,d},{a,c,d},{a,b,c,d}}', '{{},{a},{a,b},{d},{a,d},{a,b,d},{a,c,d},{a,b,c,d}}', '{{},{a},{a,c},{d},{a,d},{a,b,d},{a,c,d},{a,b,c,d}}', '{{},{a},{a,b},{a,c},{a,b,c},{d},{a,d},{a,b,d},{a,c,d},{a,b,c,d}}', '{{},{d},{a,d},{b,d},{a,b,d},{a,c,d},{a,b,c,d}}', '{{},{a},{d},{a,d},{b,d},{a,b,d},{a,c,d},{a,b,c,d}}', '{{},{b},{d},{a,d},{b,d},{a,b,d},{a,c,d},{a,b,c,d}}', '{{},{a},{b},{a,b},{d},{a,d},{b,d},{a,b,d},{a,c,d},{a,b,c,d}}', '{{},{a},{a,c},{d},{a,d},{b,d},{a,b,d},{a,c,d},{a,b,c,d}}', '{{},{a},{b},{a,b},{a,c},{a,b,c},{d},{a,d},{b,d},{a,b,d},{a,c,d},{a,b,c,d}}', '{{},{c,d},{a,c,d},{a,b,c,d}}', '{{},{a},{c,d},{a,c,d},{a,b,c,d}}', '{{},{a},{a,b},{c,d},{a,c,d},{a,b,c,d}}', '{{},{c},{c,d},{a,c,d},{a,b,c,d}}', '{{},{c},{a,c},{c,d},{a,c,d},{a,b,c,d}}', '{{},{a},{c},{a,c},{c,d},{a,c,d},{a,b,c,d}}', '{{},{c},{a,c},{a,b,c},{c,d},{a,c,d},{a,b,c,d}}', '{{},{a},{c},{a,c},{a,b,c},{c,d},{a,c,d},{a,b,c,d}}', '{{},{a},{a,b},{c},{a,c},{a,b,c},{c,d},{a,c,d},{a,b,c,d}}', '{{},{d},{c,d},{a,c,d},{a,b,c,d}}', '{{},{c},{d},{c,d},{a,c,d},{a,b,c,d}}', '{{},{c},{a,c},{d},{c,d},{a,c,d},{a,b,c,d}}', '{{},{c},{a,c},{a,b,c},{d},{c,d},{a,c,d},{a,b,c,d}}', '{{},{d},{a,d},{c,d},{a,c,d},{a,b,c,d}}', '{{},{a},{d},{a,d},{c,d},{a,c,d},{a,b,c,d}}', '{{},{c},{d},{a,d},{c,d},{a,c,d},{a,b,c,d}}', '{{},{a},{c},{a,c},{d},{a,d},{c,d},{a,c,d},{a,b,c,d}}', '{{},{a},{c},{a,c},{a,b,c},{d},{a,d},{c,d},{a,c,d},{a,b,c,d}}', '{{},{d},{a,d},{a,b,d},{c,d},{a,c,d},{a,b,c,d}}', '{{},{a},{d},{a,d},{a,b,d},{c,d},{a,c,d},{a,b,c,d}}', '{{},{a},{a,b},{d},{a,d},{a,b,d},{c,d},{a,c,d},{a,b,c,d}}', '{{},{c},{d},{a,d},{a,b,d},{c,d},{a,c,d},{a,b,c,d}}', '{{},{a},{c},{a,c},{d},{a,d},{a,b,d},{c,d},{a,c,d},{a,b,c,d}}', '{{},{a},{a,b},{c},{a,c},{a,b,c},{d},{a,d},{a,b,d},{c,d},{a,c,d},{a,b,c,d}}', '{{},{b,c,d},{a,b,c,d}}', '{{},{a},{b,c,d},{a,b,c,d}}', '{{},{b},{b,c,d},{a,b,c,d}}', '{{},{b},{a,b},{b,c,d},{a,b,c,d}}', '{{},{a},{b},{a,b},{b,c,d},{a,b,c,d}}', '{{},{c},{b,c,d},{a,b,c,d}}', '{{},{c},{a,c},{b,c,d},{a,b,c,d}}', '{{},{a},{c},{a,c},{b,c,d},{a,b,c,d}}', '{{},{b,c},{b,c,d},{a,b,c,d}}', '{{},{b},{b,c},{b,c,d},{a,b,c,d}}', '{{},{c},{b,c},{b,c,d},{a,b,c,d}}', '{{},{b},{c},{b,c},{b,c,d},{a,b,c,d}}', '{{},{b,c},{a,b,c},{b,c,d},{a,b,c,d}}', '{{},{a},{b,c},{a,b,c},{b,c,d},{a,b,c,d}}', '{{},{b},{b,c},{a,b,c},{b,c,d},{a,b,c,d}}', '{{},{b},{a,b},{b,c},{a,b,c},{b,c,d},{a,b,c,d}}', '{{},{a},{b},{a,b},{b,c},{a,b,c},{b,c,d},{a,b,c,d}}', '{{},{c},{b,c},{a,b,c},{b,c,d},{a,b,c,d}}', '{{},{b},{c},{b,c},{a,b,c},{b,c,d},{a,b,c,d}}', '{{},{b},{a,b},{c},{b,c},{a,b,c},{b,c,d},{a,b,c,d}}', '{{},{c},{a,c},{b,c},{a,b,c},{b,c,d},{a,b,c,d}}', '{{},{a},{c},{a,c},{b,c},{a,b,c},{b,c,d},{a,b,c,d}}', '{{},{b},{c},{a,c},{b,c},{a,b,c},{b,c,d},{a,b,c,d}}', '{{},{a},{b},{a,b},{c},{a,c},{b,c},{a,b,c},{b,c,d},{a,b,c,d}}', '{{},{d},{b,c,d},{a,b,c,d}}', '{{},{b,c},{d},{b,c,d},{a,b,c,d}}', '{{},{b,c},{a,b,c},{d},{b,c,d},{a,b,c,d}}', '{{},{d},{a,d},{b,c,d},{a,b,c,d}}', '{{},{a},{d},{a,d},{b,c,d},{a,b,c,d}}', '{{},{b,c},{d},{a,d},{b,c,d},{a,b,c,d}}', '{{},{a},{b,c},{a,b,c},{d},{a,d},{b,c,d},{a,b,c,d}}', '{{},{b,d},{b,c,d},{a,b,c,d}}', '{{},{b},{b,d},{b,c,d},{a,b,c,d}}', '{{},{c},{b,d},{b,c,d},{a,b,c,d}}', '{{},{c},{a,c},{b,d},{b,c,d},{a,b,c,d}}', '{{},{b},{b,c},{b,d},{b,c,d},{a,b,c,d}}', '{{},{b},{c},{b,c},{b,d},{b,c,d},{a,b,c,d}}', '{{},{b},{b,c},{a,b,c},{b,d},{b,c,d},{a,b,c,d}}', '{{},{b},{c},{b,c},{a,b,c},{b,d},{b,c,d},{a,b,c,d}}', '{{},{b},{c},{a,c},{b,c},{a,b,c},{b,d},{b,c,d},{a,b,c,d}}', '{{},{d},{b,d},{b,c,d},{a,b,c,d}}', '{{},{b},{d},{b,d},{b,c,d},{a,b,c,d}}', '{{},{b},{b,c},{d},{b,d},{b,c,d},{a,b,c,d}}', '{{},{b},{b,c},{a,b,c},{d},{b,d},{b,c,d},{a,b,c,d}}', '{{},{b,d},{a,b,d},{b,c,d},{a,b,c,d}}', '{{},{a},{b,d},{a,b,d},{b,c,d},{a,b,c,d}}', '{{},{b},{b,d},{a,b,d},{b,c,d},{a,b,c,d}}', '{{},{b},{a,b},{b,d},{a,b,d},{b,c,d},{a,b,c,d}}', '{{},{a},{b},{a,b},{b,d},{a,b,d},{b,c,d},{a,b,c,d}}', '{{},{c},{b,d},{a,b,d},{b,c,d},{a,b,c,d}}', '{{},{a},{c},{a,c},{b,d},{a,b,d},{b,c,d},{a,b,c,d}}', '{{},{b},{b,c},{b,d},{a,b,d},{b,c,d},{a,b,c,d}}', '{{},{b},{c},{b,c},{b,d},{a,b,d},{b,c,d},{a,b,c,d}}', '{{},{b},{a,b},{b,c},{a,b,c},{b,d},{a,b,d},{b,c,d},{a,b,c,d}}', '{{},{a},{b},{a,b},{b,c},{a,b,c},{b,d},{a,b,d},{b,c,d},{a,b,c,d}}', '{{},{b},{a,b},{c},{b,c},{a,b,c},{b,d},{a,b,d},{b,c,d},{a,b,c,d}}', '{{},{a},{b},{a,b},{c},{a,c},{b,c},{a,b,c},{b,d},{a,b,d},{b,c,d},{a,b,c,d}}', '{{},{d},{b,d},{a,b,d},{b,c,d},{a,b,c,d}}', '{{},{b},{d},{b,d},{a,b,d},{b,c,d},{a,b,c,d}}', '{{},{b},{a,b},{d},{b,d},{a,b,d},{b,c,d},{a,b,c,d}}', '{{},{b},{b,c},{d},{b,d},{a,b,d},{b,c,d},{a,b,c,d}}', '{{},{b},{a,b},{b,c},{a,b,c},{d},{b,d},{a,b,d},{b,c,d},{a,b,c,d}}', '{{},{d},{a,d},{b,d},{a,b,d},{b,c,d},{a,b,c,d}}', '{{},{a},{d},{a,d},{b,d},{a,b,d},{b,c,d},{a,b,c,d}}', '{{},{b},{d},{a,d},{b,d},{a,b,d},{b,c,d},{a,b,c,d}}', '{{},{a},{b},{a,b},{d},{a,d},{b,d},{a,b,d},{b,c,d},{a,b,c,d}}', '{{},{b},{b,c},{d},{a,d},{b,d},{a,b,d},{b,c,d},{a,b,c,d}}', '{{},{a},{b},{a,b},{b,c},{a,b,c},{d},{a,d},{b,d},{a,b,d},{b,c,d},{a,b,c,d}}', '{{},{c,d},{b,c,d},{a,b,c,d}}', '{{},{b},{c,d},{b,c,d},{a,b,c,d}}', '{{},{b},{a,b},{c,d},{b,c,d},{a,b,c,d}}', '{{},{c},{c,d},{b,c,d},{a,b,c,d}}', '{{},{c},{b,c},{c,d},{b,c,d},{a,b,c,d}}', '{{},{b},{c},{b,c},{c,d},{b,c,d},{a,b,c,d}}', '{{},{c},{b,c},{a,b,c},{c,d},{b,c,d},{a,b,c,d}}', '{{},{b},{c},{b,c},{a,b,c},{c,d},{b,c,d},{a,b,c,d}}', '{{},{b},{a,b},{c},{b,c},{a,b,c},{c,d},{b,c,d},{a,b,c,d}}', '{{},{d},{c,d},{b,c,d},{a,b,c,d}}', '{{},{c},{d},{c,d},{b,c,d},{a,b,c,d}}', '{{},{c},{b,c},{d},{c,d},{b,c,d},{a,b,c,d}}', '{{},{c},{b,c},{a,b,c},{d},{c,d},{b,c,d},{a,b,c,d}}', '{{},{d},{b,d},{c,d},{b,c,d},{a,b,c,d}}', '{{},{b},{d},{b,d},{c,d},{b,c,d},{a,b,c,d}}', '{{},{c},{d},{b,d},{c,d},{b,c,d},{a,b,c,d}}', '{{},{b},{c},{b,c},{d},{b,d},{c,d},{b,c,d},{a,b,c,d}}', '{{},{b},{c},{b,c},{a,b,c},{d},{b,d},{c,d},{b,c,d},{a,b,c,d}}', '{{},{d},{b,d},{a,b,d},{c,d},{b,c,d},{a,b,c,d}}', '{{},{b},{d},{b,d},{a,b,d},{c,d},{b,c,d},{a,b,c,d}}', '{{},{b},{a,b},{d},{b,d},{a,b,d},{c,d},{b,c,d},{a,b,c,d}}', '{{},{c},{d},{b,d},{a,b,d},{c,d},{b,c,d},{a,b,c,d}}', '{{},{b},{c},{b,c},{d},{b,d},{a,b,d},{c,d},{b,c,d},{a,b,c,d}}', '{{},{b},{a,b},{c},{b,c},{a,b,c},{d},{b,d},{a,b,d},{c,d},{b,c,d},{a,b,c,d}}', '{{},{c,d},{a,c,d},{b,c,d},{a,b,c,d}}', '{{},{a},{c,d},{a,c,d},{b,c,d},{a,b,c,d}}', '{{},{b},{c,d},{a,c,d},{b,c,d},{a,b,c,d}}', '{{},{a},{b},{a,b},{c,d},{a,c,d},{b,c,d},{a,b,c,d}}', '{{},{c},{c,d},{a,c,d},{b,c,d},{a,b,c,d}}', '{{},{c},{a,c},{c,d},{a,c,d},{b,c,d},{a,b,c,d}}', '{{},{a},{c},{a,c},{c,d},{a,c,d},{b,c,d},{a,b,c,d}}', '{{},{c},{b,c},{c,d},{a,c,d},{b,c,d},{a,b,c,d}}', '{{},{b},{c},{b,c},{c,d},{a,c,d},{b,c,d},{a,b,c,d}}', '{{},{c},{a,c},{b,c},{a,b,c},{c,d},{a,c,d},{b,c,d},{a,b,c,d}}', '{{},{a},{c},{a,c},{b,c},{a,b,c},{c,d},{a,c,d},{b,c,d},{a,b,c,d}}', '{{},{b},{c},{a,c},{b,c},{a,b,c},{c,d},{a,c,d},{b,c,d},{a,b,c,d}}', '{{},{a},{b},{a,b},{c},{a,c},{b,c},{a,b,c},{c,d},{a,c,d},{b,c,d},{a,b,c,d}}', '{{},{d},{c,d},{a,c,d},{b,c,d},{a,b,c,d}}', '{{},{c},{d},{c,d},{a,c,d},{b,c,d},{a,b,c,d}}', '{{},{c},{a,c},{d},{c,d},{a,c,d},{b,c,d},{a,b,c,d}}', '{{},{c},{b,c},{d},{c,d},{a,c,d},{b,c,d},{a,b,c,d}}', '{{},{c},{a,c},{b,c},{a,b,c},{d},{c,d},{a,c,d},{b,c,d},{a,b,c,d}}', '{{},{d},{a,d},{c,d},{a,c,d},{b,c,d},{a,b,c,d}}', '{{},{a},{d},{a,d},{c,d},{a,c,d},{b,c,d},{a,b,c,d}}', '{{},{c},{d},{a,d},{c,d},{a,c,d},{b,c,d},{a,b,c,d}}', '{{},{a},{c},{a,c},{d},{a,d},{c,d},{a,c,d},{b,c,d},{a,b,c,d}}', '{{},{c},{b,c},{d},{a,d},{c,d},{a,c,d},{b,c,d},{a,b,c,d}}', '{{},{a},{c},{a,c},{b,c},{a,b,c},{d},{a,d},{c,d},{a,c,d},{b,c,d},{a,b,c,d}}', '{{},{d},{b,d},{c,d},{a,c,d},{b,c,d},{a,b,c,d}}', '{{},{b},{d},{b,d},{c,d},{a,c,d},{b,c,d},{a,b,c,d}}', '{{},{c},{d},{b,d},{c,d},{a,c,d},{b,c,d},{a,b,c,d}}', '{{},{c},{a,c},{d},{b,d},{c,d},{a,c,d},{b,c,d},{a,b,c,d}}', '{{},{b},{c},{b,c},{d},{b,d},{c,d},{a,c,d},{b,c,d},{a,b,c,d}}', '{{},{b},{c},{a,c},{b,c},{a,b,c},{d},{b,d},{c,d},{a,c,d},{b,c,d},{a,b,c,d}}', '{{},{d},{a,d},{b,d},{a,b,d},{c,d},{a,c,d},{b,c,d},{a,b,c,d}}', '{{},{a},{d},{a,d},{b,d},{a,b,d},{c,d},{a,c,d},{b,c,d},{a,b,c,d}}', '{{},{b},{d},{a,d},{b,d},{a,b,d},{c,d},{a,c,d},{b,c,d},{a,b,c,d}}', '{{},{a},{b},{a,b},{d},{a,d},{b,d},{a,b,d},{c,d},{a,c,d},{b,c,d},{a,b,c,d}}', '{{},{c},{d},{a,d},{b,d},{a,b,d},{c,d},{a,c,d},{b,c,d},{a,b,c,d}}', '{{},{a},{c},{a,c},{d},{a,d},{b,d},{a,b,d},{c,d},{a,c,d},{b,c,d},{a,b,c,d}}', '{{},{b},{c},{b,c},{d},{a,d},{b,d},{a,b,d},{c,d},{a,c,d},{b,c,d},{a,b,c,d}}', '{{},{a},{b},{a,b},{c},{a,c},{b,c},{a,b,c},{d},{a,d},{b,d},{a,b,d},{c,d},{a,c,d},{b,c,d},{a,b,c,d}}']\n"
     ]
    }
   ],
   "source": [
    "print(Topology_display)"
   ]
  }
 ],
 "metadata": {
  "kernelspec": {
   "display_name": "Python 3",
   "language": "python",
   "name": "python3"
  },
  "language_info": {
   "codemirror_mode": {
    "name": "ipython",
    "version": 3
   },
   "file_extension": ".py",
   "mimetype": "text/x-python",
   "name": "python",
   "nbconvert_exporter": "python",
   "pygments_lexer": "ipython3",
   "version": "3.10.6"
  }
 },
 "nbformat": 4,
 "nbformat_minor": 2
}
