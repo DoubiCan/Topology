{
 "cells": [
  {
   "cell_type": "code",
   "execution_count": null,
   "metadata": {},
   "outputs": [],
   "source": [
    "N=3\n",
    "N=="
   ]
  },
  {
   "cell_type": "code",
   "execution_count": null,
   "metadata": {},
   "outputs": [],
   "source": [
    "def Intersection_check(Tau):\n",
    "    for i in range(1,len(Tau)):\n",
    "        for j in range(i+1,len(Tau)+1):\n",
    "            if (Tau[i-1]&Tau[j-1]) not in Tau:\n",
    "                return False\n",
    "    return True"
   ]
  },
  {
   "cell_type": "code",
   "execution_count": null,
   "metadata": {},
   "outputs": [],
   "source": [
    "def Union_check(Tau):\n",
    "    for i in range(1,len(Tau)):\n",
    "        for j in range(i+1,len(Tau)+1):\n",
    "            if (Tau[i-1]|Tau[j-1]) not in Tau:\n",
    "                return False\n",
    "    return True"
   ]
  }
 ],
 "metadata": {
  "language_info": {
   "name": "python"
  }
 },
 "nbformat": 4,
 "nbformat_minor": 2
}
